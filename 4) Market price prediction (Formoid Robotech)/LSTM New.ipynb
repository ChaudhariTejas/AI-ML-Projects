{
 "cells": [
  {
   "cell_type": "code",
   "execution_count": 200,
   "id": "c9fe1f01",
   "metadata": {},
   "outputs": [],
   "source": [
    "import tensorflow as tf\n",
    "import numpy as np\n",
    "import pandas as pd\n",
    "import matplotlib.pyplot as plt\n",
    "from sklearn.preprocessing import LabelEncoder, MinMaxScaler"
   ]
  },
  {
   "cell_type": "markdown",
   "id": "fc7aa65d",
   "metadata": {},
   "source": [
    "# Data Preprocessing"
   ]
  },
  {
   "cell_type": "code",
   "execution_count": 201,
   "id": "b7a5f19f",
   "metadata": {},
   "outputs": [
    {
     "data": {
      "text/html": [
       "<div>\n",
       "<style scoped>\n",
       "    .dataframe tbody tr th:only-of-type {\n",
       "        vertical-align: middle;\n",
       "    }\n",
       "\n",
       "    .dataframe tbody tr th {\n",
       "        vertical-align: top;\n",
       "    }\n",
       "\n",
       "    .dataframe thead th {\n",
       "        text-align: right;\n",
       "    }\n",
       "</style>\n",
       "<table border=\"1\" class=\"dataframe\">\n",
       "  <thead>\n",
       "    <tr style=\"text-align: right;\">\n",
       "      <th></th>\n",
       "      <th>state</th>\n",
       "      <th>district</th>\n",
       "      <th>market</th>\n",
       "      <th>commodity</th>\n",
       "      <th>variety</th>\n",
       "      <th>arrival_date</th>\n",
       "      <th>min_price</th>\n",
       "      <th>max_price</th>\n",
       "      <th>modal_price</th>\n",
       "    </tr>\n",
       "  </thead>\n",
       "  <tbody>\n",
       "    <tr>\n",
       "      <th>0</th>\n",
       "      <td>Uttar Pradesh</td>\n",
       "      <td>Allahabad</td>\n",
       "      <td>Allahabad</td>\n",
       "      <td>Banana - Green</td>\n",
       "      <td>Banana - Green</td>\n",
       "      <td>01/01/2021</td>\n",
       "      <td>1050.0</td>\n",
       "      <td>1250.0</td>\n",
       "      <td>1100</td>\n",
       "    </tr>\n",
       "    <tr>\n",
       "      <th>1</th>\n",
       "      <td>Uttar Pradesh</td>\n",
       "      <td>Allahabad</td>\n",
       "      <td>Allahabad</td>\n",
       "      <td>Banana - Green</td>\n",
       "      <td>Banana - Green</td>\n",
       "      <td>02/01/2021</td>\n",
       "      <td>1050.0</td>\n",
       "      <td>1250.0</td>\n",
       "      <td>1100</td>\n",
       "    </tr>\n",
       "    <tr>\n",
       "      <th>2</th>\n",
       "      <td>Uttar Pradesh</td>\n",
       "      <td>Allahabad</td>\n",
       "      <td>Allahabad</td>\n",
       "      <td>Banana - Green</td>\n",
       "      <td>Banana - Green</td>\n",
       "      <td>04/01/2021</td>\n",
       "      <td>1150.0</td>\n",
       "      <td>1350.0</td>\n",
       "      <td>1200</td>\n",
       "    </tr>\n",
       "    <tr>\n",
       "      <th>3</th>\n",
       "      <td>Uttar Pradesh</td>\n",
       "      <td>Allahabad</td>\n",
       "      <td>Allahabad</td>\n",
       "      <td>Banana - Green</td>\n",
       "      <td>Banana - Green</td>\n",
       "      <td>06/01/2021</td>\n",
       "      <td>1150.0</td>\n",
       "      <td>1400.0</td>\n",
       "      <td>1225</td>\n",
       "    </tr>\n",
       "    <tr>\n",
       "      <th>4</th>\n",
       "      <td>Uttar Pradesh</td>\n",
       "      <td>Allahabad</td>\n",
       "      <td>Allahabad</td>\n",
       "      <td>Banana - Green</td>\n",
       "      <td>Banana - Green</td>\n",
       "      <td>07/01/2021</td>\n",
       "      <td>1150.0</td>\n",
       "      <td>1300.0</td>\n",
       "      <td>1200</td>\n",
       "    </tr>\n",
       "    <tr>\n",
       "      <th>...</th>\n",
       "      <td>...</td>\n",
       "      <td>...</td>\n",
       "      <td>...</td>\n",
       "      <td>...</td>\n",
       "      <td>...</td>\n",
       "      <td>...</td>\n",
       "      <td>...</td>\n",
       "      <td>...</td>\n",
       "      <td>...</td>\n",
       "    </tr>\n",
       "    <tr>\n",
       "      <th>57150</th>\n",
       "      <td>Uttar Pradesh</td>\n",
       "      <td>Varanasi</td>\n",
       "      <td>Varanasi(F&amp;V)</td>\n",
       "      <td>Banana - Green</td>\n",
       "      <td>Banana - Green</td>\n",
       "      <td>24/12/2020</td>\n",
       "      <td>1200.0</td>\n",
       "      <td>1350.0</td>\n",
       "      <td>1280</td>\n",
       "    </tr>\n",
       "    <tr>\n",
       "      <th>57151</th>\n",
       "      <td>Uttar Pradesh</td>\n",
       "      <td>Varanasi</td>\n",
       "      <td>Varanasi(F&amp;V)</td>\n",
       "      <td>Banana - Green</td>\n",
       "      <td>Banana - Green</td>\n",
       "      <td>25/12/2020</td>\n",
       "      <td>1200.0</td>\n",
       "      <td>1385.0</td>\n",
       "      <td>1300</td>\n",
       "    </tr>\n",
       "    <tr>\n",
       "      <th>57152</th>\n",
       "      <td>Uttar Pradesh</td>\n",
       "      <td>Varanasi</td>\n",
       "      <td>Varanasi(F&amp;V)</td>\n",
       "      <td>Banana - Green</td>\n",
       "      <td>Banana - Green</td>\n",
       "      <td>26/12/2020</td>\n",
       "      <td>1250.0</td>\n",
       "      <td>1450.0</td>\n",
       "      <td>1300</td>\n",
       "    </tr>\n",
       "    <tr>\n",
       "      <th>57153</th>\n",
       "      <td>Uttar Pradesh</td>\n",
       "      <td>Varanasi</td>\n",
       "      <td>Varanasi(F&amp;V)</td>\n",
       "      <td>Banana - Green</td>\n",
       "      <td>Banana - Green</td>\n",
       "      <td>28/12/2020</td>\n",
       "      <td>1200.0</td>\n",
       "      <td>1450.0</td>\n",
       "      <td>1350</td>\n",
       "    </tr>\n",
       "    <tr>\n",
       "      <th>57154</th>\n",
       "      <td>Uttar Pradesh</td>\n",
       "      <td>Varanasi</td>\n",
       "      <td>Varanasi(F&amp;V)</td>\n",
       "      <td>Banana - Green</td>\n",
       "      <td>Banana - Green</td>\n",
       "      <td>30/12/2020</td>\n",
       "      <td>1300.0</td>\n",
       "      <td>1450.0</td>\n",
       "      <td>1400</td>\n",
       "    </tr>\n",
       "  </tbody>\n",
       "</table>\n",
       "<p>57155 rows × 9 columns</p>\n",
       "</div>"
      ],
      "text/plain": [
       "               state   district         market       commodity  \\\n",
       "0      Uttar Pradesh  Allahabad      Allahabad  Banana - Green   \n",
       "1      Uttar Pradesh  Allahabad      Allahabad  Banana - Green   \n",
       "2      Uttar Pradesh  Allahabad      Allahabad  Banana - Green   \n",
       "3      Uttar Pradesh  Allahabad      Allahabad  Banana - Green   \n",
       "4      Uttar Pradesh  Allahabad      Allahabad  Banana - Green   \n",
       "...              ...        ...            ...             ...   \n",
       "57150  Uttar Pradesh   Varanasi  Varanasi(F&V)  Banana - Green   \n",
       "57151  Uttar Pradesh   Varanasi  Varanasi(F&V)  Banana - Green   \n",
       "57152  Uttar Pradesh   Varanasi  Varanasi(F&V)  Banana - Green   \n",
       "57153  Uttar Pradesh   Varanasi  Varanasi(F&V)  Banana - Green   \n",
       "57154  Uttar Pradesh   Varanasi  Varanasi(F&V)  Banana - Green   \n",
       "\n",
       "              variety arrival_date  min_price  max_price  modal_price  \n",
       "0      Banana - Green   01/01/2021     1050.0     1250.0         1100  \n",
       "1      Banana - Green   02/01/2021     1050.0     1250.0         1100  \n",
       "2      Banana - Green   04/01/2021     1150.0     1350.0         1200  \n",
       "3      Banana - Green   06/01/2021     1150.0     1400.0         1225  \n",
       "4      Banana - Green   07/01/2021     1150.0     1300.0         1200  \n",
       "...               ...          ...        ...        ...          ...  \n",
       "57150  Banana - Green   24/12/2020     1200.0     1350.0         1280  \n",
       "57151  Banana - Green   25/12/2020     1200.0     1385.0         1300  \n",
       "57152  Banana - Green   26/12/2020     1250.0     1450.0         1300  \n",
       "57153  Banana - Green   28/12/2020     1200.0     1450.0         1350  \n",
       "57154  Banana - Green   30/12/2020     1300.0     1450.0         1400  \n",
       "\n",
       "[57155 rows x 9 columns]"
      ]
     },
     "execution_count": 201,
     "metadata": {},
     "output_type": "execute_result"
    }
   ],
   "source": [
    "df=pd.read_csv(r\"C:\\Users\\tejas\\Formoid Robotech\\up_data.csv\")\n",
    "df"
   ]
  },
  {
   "cell_type": "code",
   "execution_count": 202,
   "id": "3189807d",
   "metadata": {},
   "outputs": [
    {
     "name": "stdout",
     "output_type": "stream",
     "text": [
      "<class 'pandas.core.frame.DataFrame'>\n",
      "RangeIndex: 57155 entries, 0 to 57154\n",
      "Data columns (total 9 columns):\n",
      " #   Column        Non-Null Count  Dtype  \n",
      "---  ------        --------------  -----  \n",
      " 0   state         57155 non-null  object \n",
      " 1   district      57155 non-null  object \n",
      " 2   market        57155 non-null  object \n",
      " 3   commodity     57155 non-null  object \n",
      " 4   variety       57155 non-null  object \n",
      " 5   arrival_date  57155 non-null  object \n",
      " 6   min_price     57127 non-null  float64\n",
      " 7   max_price     57127 non-null  float64\n",
      " 8   modal_price   57155 non-null  int64  \n",
      "dtypes: float64(2), int64(1), object(6)\n",
      "memory usage: 3.9+ MB\n"
     ]
    }
   ],
   "source": [
    "df.info()"
   ]
  },
  {
   "cell_type": "code",
   "execution_count": 203,
   "id": "89b02cc8",
   "metadata": {},
   "outputs": [],
   "source": [
    "# Encode categorical variables\n",
    "cat_columns = ['state', 'district', 'variety','market', 'commodity']\n",
    "label_encoders = {}\n",
    "for column in cat_columns:\n",
    "    label_encoders[column] = LabelEncoder()\n",
    "    df[column] = label_encoders[column].fit_transform(df[column])"
   ]
  },
  {
   "cell_type": "code",
   "execution_count": 204,
   "id": "2697089a",
   "metadata": {},
   "outputs": [],
   "source": [
    "df=df.drop(['min_price'],axis=1)\n",
    "df=df.drop(['max_price'],axis=1)"
   ]
  },
  {
   "cell_type": "code",
   "execution_count": 205,
   "id": "ceabf38c",
   "metadata": {},
   "outputs": [
    {
     "data": {
      "text/html": [
       "<div>\n",
       "<style scoped>\n",
       "    .dataframe tbody tr th:only-of-type {\n",
       "        vertical-align: middle;\n",
       "    }\n",
       "\n",
       "    .dataframe tbody tr th {\n",
       "        vertical-align: top;\n",
       "    }\n",
       "\n",
       "    .dataframe thead th {\n",
       "        text-align: right;\n",
       "    }\n",
       "</style>\n",
       "<table border=\"1\" class=\"dataframe\">\n",
       "  <thead>\n",
       "    <tr style=\"text-align: right;\">\n",
       "      <th></th>\n",
       "      <th>state</th>\n",
       "      <th>district</th>\n",
       "      <th>market</th>\n",
       "      <th>commodity</th>\n",
       "      <th>variety</th>\n",
       "      <th>arrival_date</th>\n",
       "      <th>modal_price</th>\n",
       "    </tr>\n",
       "  </thead>\n",
       "  <tbody>\n",
       "    <tr>\n",
       "      <th>57150</th>\n",
       "      <td>0</td>\n",
       "      <td>54</td>\n",
       "      <td>114</td>\n",
       "      <td>0</td>\n",
       "      <td>0</td>\n",
       "      <td>24/12/2020</td>\n",
       "      <td>1280</td>\n",
       "    </tr>\n",
       "    <tr>\n",
       "      <th>57151</th>\n",
       "      <td>0</td>\n",
       "      <td>54</td>\n",
       "      <td>114</td>\n",
       "      <td>0</td>\n",
       "      <td>0</td>\n",
       "      <td>25/12/2020</td>\n",
       "      <td>1300</td>\n",
       "    </tr>\n",
       "    <tr>\n",
       "      <th>57152</th>\n",
       "      <td>0</td>\n",
       "      <td>54</td>\n",
       "      <td>114</td>\n",
       "      <td>0</td>\n",
       "      <td>0</td>\n",
       "      <td>26/12/2020</td>\n",
       "      <td>1300</td>\n",
       "    </tr>\n",
       "    <tr>\n",
       "      <th>57153</th>\n",
       "      <td>0</td>\n",
       "      <td>54</td>\n",
       "      <td>114</td>\n",
       "      <td>0</td>\n",
       "      <td>0</td>\n",
       "      <td>28/12/2020</td>\n",
       "      <td>1350</td>\n",
       "    </tr>\n",
       "    <tr>\n",
       "      <th>57154</th>\n",
       "      <td>0</td>\n",
       "      <td>54</td>\n",
       "      <td>114</td>\n",
       "      <td>0</td>\n",
       "      <td>0</td>\n",
       "      <td>30/12/2020</td>\n",
       "      <td>1400</td>\n",
       "    </tr>\n",
       "  </tbody>\n",
       "</table>\n",
       "</div>"
      ],
      "text/plain": [
       "       state  district  market  commodity  variety arrival_date  modal_price\n",
       "57150      0        54     114          0        0   24/12/2020         1280\n",
       "57151      0        54     114          0        0   25/12/2020         1300\n",
       "57152      0        54     114          0        0   26/12/2020         1300\n",
       "57153      0        54     114          0        0   28/12/2020         1350\n",
       "57154      0        54     114          0        0   30/12/2020         1400"
      ]
     },
     "execution_count": 205,
     "metadata": {},
     "output_type": "execute_result"
    }
   ],
   "source": [
    "df.tail()"
   ]
  },
  {
   "cell_type": "code",
   "execution_count": 206,
   "id": "289502f4",
   "metadata": {},
   "outputs": [],
   "source": [
    "df['arrival_date'] = pd.to_datetime(df['arrival_date'], dayfirst=True)\n",
    "df['arrival_date'] = df['arrival_date'].dt.strftime('%d/%m/%Y')\n",
    "df['year'] = pd.to_datetime(df['arrival_date'], format='%d/%m/%Y').dt.year\n",
    "df['month'] = pd.to_datetime(df['arrival_date'], format='%d/%m/%Y').dt.month\n",
    "df['day'] = pd.to_datetime(df['arrival_date'], format='%d/%m/%Y').dt.day\n",
    "df=df.drop(['arrival_date'],axis=1)"
   ]
  },
  {
   "cell_type": "code",
   "execution_count": 207,
   "id": "539d43a5",
   "metadata": {},
   "outputs": [
    {
     "data": {
      "text/html": [
       "<div>\n",
       "<style scoped>\n",
       "    .dataframe tbody tr th:only-of-type {\n",
       "        vertical-align: middle;\n",
       "    }\n",
       "\n",
       "    .dataframe tbody tr th {\n",
       "        vertical-align: top;\n",
       "    }\n",
       "\n",
       "    .dataframe thead th {\n",
       "        text-align: right;\n",
       "    }\n",
       "</style>\n",
       "<table border=\"1\" class=\"dataframe\">\n",
       "  <thead>\n",
       "    <tr style=\"text-align: right;\">\n",
       "      <th></th>\n",
       "      <th>state</th>\n",
       "      <th>district</th>\n",
       "      <th>market</th>\n",
       "      <th>commodity</th>\n",
       "      <th>variety</th>\n",
       "      <th>modal_price</th>\n",
       "      <th>year</th>\n",
       "      <th>month</th>\n",
       "      <th>day</th>\n",
       "    </tr>\n",
       "  </thead>\n",
       "  <tbody>\n",
       "    <tr>\n",
       "      <th>0</th>\n",
       "      <td>0</td>\n",
       "      <td>1</td>\n",
       "      <td>3</td>\n",
       "      <td>0</td>\n",
       "      <td>0</td>\n",
       "      <td>1100</td>\n",
       "      <td>2021</td>\n",
       "      <td>1</td>\n",
       "      <td>1</td>\n",
       "    </tr>\n",
       "    <tr>\n",
       "      <th>1</th>\n",
       "      <td>0</td>\n",
       "      <td>1</td>\n",
       "      <td>3</td>\n",
       "      <td>0</td>\n",
       "      <td>0</td>\n",
       "      <td>1100</td>\n",
       "      <td>2021</td>\n",
       "      <td>1</td>\n",
       "      <td>2</td>\n",
       "    </tr>\n",
       "    <tr>\n",
       "      <th>2</th>\n",
       "      <td>0</td>\n",
       "      <td>1</td>\n",
       "      <td>3</td>\n",
       "      <td>0</td>\n",
       "      <td>0</td>\n",
       "      <td>1200</td>\n",
       "      <td>2021</td>\n",
       "      <td>1</td>\n",
       "      <td>4</td>\n",
       "    </tr>\n",
       "    <tr>\n",
       "      <th>3</th>\n",
       "      <td>0</td>\n",
       "      <td>1</td>\n",
       "      <td>3</td>\n",
       "      <td>0</td>\n",
       "      <td>0</td>\n",
       "      <td>1225</td>\n",
       "      <td>2021</td>\n",
       "      <td>1</td>\n",
       "      <td>6</td>\n",
       "    </tr>\n",
       "    <tr>\n",
       "      <th>4</th>\n",
       "      <td>0</td>\n",
       "      <td>1</td>\n",
       "      <td>3</td>\n",
       "      <td>0</td>\n",
       "      <td>0</td>\n",
       "      <td>1200</td>\n",
       "      <td>2021</td>\n",
       "      <td>1</td>\n",
       "      <td>7</td>\n",
       "    </tr>\n",
       "    <tr>\n",
       "      <th>...</th>\n",
       "      <td>...</td>\n",
       "      <td>...</td>\n",
       "      <td>...</td>\n",
       "      <td>...</td>\n",
       "      <td>...</td>\n",
       "      <td>...</td>\n",
       "      <td>...</td>\n",
       "      <td>...</td>\n",
       "      <td>...</td>\n",
       "    </tr>\n",
       "    <tr>\n",
       "      <th>57150</th>\n",
       "      <td>0</td>\n",
       "      <td>54</td>\n",
       "      <td>114</td>\n",
       "      <td>0</td>\n",
       "      <td>0</td>\n",
       "      <td>1280</td>\n",
       "      <td>2020</td>\n",
       "      <td>12</td>\n",
       "      <td>24</td>\n",
       "    </tr>\n",
       "    <tr>\n",
       "      <th>57151</th>\n",
       "      <td>0</td>\n",
       "      <td>54</td>\n",
       "      <td>114</td>\n",
       "      <td>0</td>\n",
       "      <td>0</td>\n",
       "      <td>1300</td>\n",
       "      <td>2020</td>\n",
       "      <td>12</td>\n",
       "      <td>25</td>\n",
       "    </tr>\n",
       "    <tr>\n",
       "      <th>57152</th>\n",
       "      <td>0</td>\n",
       "      <td>54</td>\n",
       "      <td>114</td>\n",
       "      <td>0</td>\n",
       "      <td>0</td>\n",
       "      <td>1300</td>\n",
       "      <td>2020</td>\n",
       "      <td>12</td>\n",
       "      <td>26</td>\n",
       "    </tr>\n",
       "    <tr>\n",
       "      <th>57153</th>\n",
       "      <td>0</td>\n",
       "      <td>54</td>\n",
       "      <td>114</td>\n",
       "      <td>0</td>\n",
       "      <td>0</td>\n",
       "      <td>1350</td>\n",
       "      <td>2020</td>\n",
       "      <td>12</td>\n",
       "      <td>28</td>\n",
       "    </tr>\n",
       "    <tr>\n",
       "      <th>57154</th>\n",
       "      <td>0</td>\n",
       "      <td>54</td>\n",
       "      <td>114</td>\n",
       "      <td>0</td>\n",
       "      <td>0</td>\n",
       "      <td>1400</td>\n",
       "      <td>2020</td>\n",
       "      <td>12</td>\n",
       "      <td>30</td>\n",
       "    </tr>\n",
       "  </tbody>\n",
       "</table>\n",
       "<p>57155 rows × 9 columns</p>\n",
       "</div>"
      ],
      "text/plain": [
       "       state  district  market  commodity  variety  modal_price  year  month  \\\n",
       "0          0         1       3          0        0         1100  2021      1   \n",
       "1          0         1       3          0        0         1100  2021      1   \n",
       "2          0         1       3          0        0         1200  2021      1   \n",
       "3          0         1       3          0        0         1225  2021      1   \n",
       "4          0         1       3          0        0         1200  2021      1   \n",
       "...      ...       ...     ...        ...      ...          ...   ...    ...   \n",
       "57150      0        54     114          0        0         1280  2020     12   \n",
       "57151      0        54     114          0        0         1300  2020     12   \n",
       "57152      0        54     114          0        0         1300  2020     12   \n",
       "57153      0        54     114          0        0         1350  2020     12   \n",
       "57154      0        54     114          0        0         1400  2020     12   \n",
       "\n",
       "       day  \n",
       "0        1  \n",
       "1        2  \n",
       "2        4  \n",
       "3        6  \n",
       "4        7  \n",
       "...    ...  \n",
       "57150   24  \n",
       "57151   25  \n",
       "57152   26  \n",
       "57153   28  \n",
       "57154   30  \n",
       "\n",
       "[57155 rows x 9 columns]"
      ]
     },
     "execution_count": 207,
     "metadata": {},
     "output_type": "execute_result"
    }
   ],
   "source": [
    "df"
   ]
  },
  {
   "cell_type": "code",
   "execution_count": 209,
   "id": "fbb9bb64",
   "metadata": {},
   "outputs": [
    {
     "name": "stdout",
     "output_type": "stream",
     "text": [
      "[[1100]\n",
      " [1100]\n",
      " [1200]\n",
      " ...\n",
      " [1300]\n",
      " [1350]\n",
      " [1400]]\n"
     ]
    }
   ],
   "source": [
    "selected_columns = df.iloc[:,5:6].values\n",
    "print(selected_columns)"
   ]
  },
  {
   "cell_type": "code",
   "execution_count": 210,
   "id": "ad724444",
   "metadata": {},
   "outputs": [
    {
     "data": {
      "text/plain": [
       "((57155, 1), (57155, 9))"
      ]
     },
     "execution_count": 210,
     "metadata": {},
     "output_type": "execute_result"
    }
   ],
   "source": [
    "selected_columns.shape,df.shape"
   ]
  },
  {
   "cell_type": "code",
   "execution_count": 211,
   "id": "f60374fc",
   "metadata": {},
   "outputs": [],
   "source": [
    "# Feature Scaling"
   ]
  },
  {
   "cell_type": "code",
   "execution_count": 212,
   "id": "d8cff456",
   "metadata": {},
   "outputs": [],
   "source": [
    "sc=MinMaxScaler(feature_range=(0,1))\n",
    "selected_columns_scaled=sc.fit_transform(selected_columns)"
   ]
  },
  {
   "cell_type": "code",
   "execution_count": 213,
   "id": "0e7bea39",
   "metadata": {},
   "outputs": [
    {
     "data": {
      "text/plain": [
       "(57155, 1)"
      ]
     },
     "execution_count": 213,
     "metadata": {},
     "output_type": "execute_result"
    }
   ],
   "source": [
    "selected_columns_scaled.shape"
   ]
  },
  {
   "cell_type": "code",
   "execution_count": 214,
   "id": "58acc0f9",
   "metadata": {},
   "outputs": [],
   "source": [
    "# creating data structure with 60 timesteps and 1 output"
   ]
  },
  {
   "cell_type": "code",
   "execution_count": 215,
   "id": "b90cac12",
   "metadata": {},
   "outputs": [],
   "source": [
    "x_train=[]\n",
    "y_train=[]\n",
    "\n",
    "for i in range(60,57155):\n",
    "    x_train.append(selected_columns_scaled[i-60:i,0])\n",
    "    y_train.append(selected_columns_scaled[i,0])\n",
    "    \n",
    "x_train,y_train=np.array(x_train),np.array(y_train)"
   ]
  },
  {
   "cell_type": "code",
   "execution_count": 216,
   "id": "b7d40adb",
   "metadata": {},
   "outputs": [
    {
     "data": {
      "text/plain": [
       "(57095, 60)"
      ]
     },
     "execution_count": 216,
     "metadata": {},
     "output_type": "execute_result"
    }
   ],
   "source": [
    "x_train.shape"
   ]
  },
  {
   "cell_type": "code",
   "execution_count": 217,
   "id": "70776ba7",
   "metadata": {},
   "outputs": [
    {
     "data": {
      "text/plain": [
       "(57095,)"
      ]
     },
     "execution_count": 217,
     "metadata": {},
     "output_type": "execute_result"
    }
   ],
   "source": [
    "y_train.shape"
   ]
  },
  {
   "cell_type": "code",
   "execution_count": 218,
   "id": "aa49c177",
   "metadata": {},
   "outputs": [],
   "source": [
    "#reshaping dataset"
   ]
  },
  {
   "cell_type": "code",
   "execution_count": 219,
   "id": "3d7e629d",
   "metadata": {},
   "outputs": [],
   "source": [
    "x_train=x_train.reshape(57095,60,1)"
   ]
  },
  {
   "cell_type": "code",
   "execution_count": 220,
   "id": "ada9a0ec",
   "metadata": {},
   "outputs": [
    {
     "data": {
      "text/plain": [
       "(57095, 60, 1)"
      ]
     },
     "execution_count": 220,
     "metadata": {},
     "output_type": "execute_result"
    }
   ],
   "source": [
    "x_train.shape"
   ]
  },
  {
   "cell_type": "code",
   "execution_count": 221,
   "id": "3fe518ab",
   "metadata": {},
   "outputs": [],
   "source": [
    "# building LSTM"
   ]
  },
  {
   "cell_type": "code",
   "execution_count": 222,
   "id": "7c7d8511",
   "metadata": {},
   "outputs": [],
   "source": [
    "model=tf.keras.models.Sequential()"
   ]
  },
  {
   "cell_type": "code",
   "execution_count": 223,
   "id": "44981a39",
   "metadata": {},
   "outputs": [],
   "source": [
    "# First LSTM layer\n",
    "model.add(tf.keras.layers.LSTM(units=60,activation='relu',return_sequences=True,input_shape=(60, 1)))\n",
    "# dropout layer\n",
    "model.add(tf.keras.layers.Dropout(0.2))\n",
    "\n",
    "# Second LSTM layer\n",
    "model.add(tf.keras.layers.LSTM(units=60,activation='relu',return_sequences=True))\n",
    "# dropout layer\n",
    "model.add(tf.keras.layers.Dropout(0.2))\n",
    "\n",
    "# Third LSTM layer\n",
    "model.add(tf.keras.layers.LSTM(units=80,activation='relu',return_sequences=True))\n",
    "# dropout layer\n",
    "model.add(tf.keras.layers.Dropout(0.2))\n",
    "\n",
    "# Fourth LSTM layer\n",
    "model.add(tf.keras.layers.LSTM(units=120,activation='relu'))\n",
    "# dropout layer\n",
    "model.add(tf.keras.layers.Dropout(0.2))"
   ]
  },
  {
   "cell_type": "code",
   "execution_count": 224,
   "id": "81effb56",
   "metadata": {},
   "outputs": [],
   "source": [
    "# output layer\n",
    "model.add(tf.keras.layers.Dense(units=1))"
   ]
  },
  {
   "cell_type": "code",
   "execution_count": 225,
   "id": "075809f9",
   "metadata": {},
   "outputs": [
    {
     "name": "stdout",
     "output_type": "stream",
     "text": [
      "Model: \"sequential_2\"\n",
      "_________________________________________________________________\n",
      " Layer (type)                Output Shape              Param #   \n",
      "=================================================================\n",
      " lstm_8 (LSTM)               (None, 60, 60)            14880     \n",
      "                                                                 \n",
      " dropout_8 (Dropout)         (None, 60, 60)            0         \n",
      "                                                                 \n",
      " lstm_9 (LSTM)               (None, 60, 60)            29040     \n",
      "                                                                 \n",
      " dropout_9 (Dropout)         (None, 60, 60)            0         \n",
      "                                                                 \n",
      " lstm_10 (LSTM)              (None, 60, 80)            45120     \n",
      "                                                                 \n",
      " dropout_10 (Dropout)        (None, 60, 80)            0         \n",
      "                                                                 \n",
      " lstm_11 (LSTM)              (None, 120)               96480     \n",
      "                                                                 \n",
      " dropout_11 (Dropout)        (None, 120)               0         \n",
      "                                                                 \n",
      " dense_2 (Dense)             (None, 1)                 121       \n",
      "                                                                 \n",
      "=================================================================\n",
      "Total params: 185641 (725.16 KB)\n",
      "Trainable params: 185641 (725.16 KB)\n",
      "Non-trainable params: 0 (0.00 Byte)\n",
      "_________________________________________________________________\n"
     ]
    }
   ],
   "source": [
    "model.summary()"
   ]
  },
  {
   "cell_type": "code",
   "execution_count": 226,
   "id": "8d9ceda9",
   "metadata": {},
   "outputs": [],
   "source": [
    "# Compile the model\n",
    "model.compile(optimizer='adam',loss='mean_squared_error')"
   ]
  },
  {
   "cell_type": "code",
   "execution_count": 227,
   "id": "ab059e81",
   "metadata": {},
   "outputs": [],
   "source": [
    "# Training the Model"
   ]
  },
  {
   "cell_type": "code",
   "execution_count": 228,
   "id": "bdccede4",
   "metadata": {},
   "outputs": [
    {
     "name": "stdout",
     "output_type": "stream",
     "text": [
      "Epoch 1/10\n",
      "1785/1785 [==============================] - 335s 185ms/step - loss: 3.0449e-04\n",
      "Epoch 2/10\n",
      "1785/1785 [==============================] - 433s 242ms/step - loss: 1.8360e-04\n",
      "Epoch 3/10\n",
      "1785/1785 [==============================] - 349s 196ms/step - loss: 1.6780e-04\n",
      "Epoch 4/10\n",
      "1785/1785 [==============================] - 366s 205ms/step - loss: 1.6246e-04\n",
      "Epoch 5/10\n",
      "1785/1785 [==============================] - 526s 295ms/step - loss: 1.5435e-04\n",
      "Epoch 6/10\n",
      "1785/1785 [==============================] - 532s 298ms/step - loss: 1.5433e-04\n",
      "Epoch 7/10\n",
      "1785/1785 [==============================] - 526s 295ms/step - loss: 1.4876e-04\n",
      "Epoch 8/10\n",
      "1785/1785 [==============================] - 447s 251ms/step - loss: 1.4630e-04\n",
      "Epoch 9/10\n",
      "1785/1785 [==============================] - 464s 260ms/step - loss: 1.4403e-04\n",
      "Epoch 10/10\n",
      "1785/1785 [==============================] - 456s 256ms/step - loss: 1.4322e-04\n"
     ]
    },
    {
     "data": {
      "text/plain": [
       "<keras.src.callbacks.History at 0x28ff6ddd8d0>"
      ]
     },
     "execution_count": 228,
     "metadata": {},
     "output_type": "execute_result"
    }
   ],
   "source": [
    "model.fit(x_train,y_train,batch_size=32,epochs=10)"
   ]
  },
  {
   "cell_type": "code",
   "execution_count": 229,
   "id": "3c44d096",
   "metadata": {},
   "outputs": [],
   "source": [
    "# Making Predictions"
   ]
  },
  {
   "cell_type": "code",
   "execution_count": 230,
   "id": "61769e9e",
   "metadata": {},
   "outputs": [
    {
     "data": {
      "text/html": [
       "<div>\n",
       "<style scoped>\n",
       "    .dataframe tbody tr th:only-of-type {\n",
       "        vertical-align: middle;\n",
       "    }\n",
       "\n",
       "    .dataframe tbody tr th {\n",
       "        vertical-align: top;\n",
       "    }\n",
       "\n",
       "    .dataframe thead th {\n",
       "        text-align: right;\n",
       "    }\n",
       "</style>\n",
       "<table border=\"1\" class=\"dataframe\">\n",
       "  <thead>\n",
       "    <tr style=\"text-align: right;\">\n",
       "      <th></th>\n",
       "      <th>state</th>\n",
       "      <th>district</th>\n",
       "      <th>market</th>\n",
       "      <th>commodity</th>\n",
       "      <th>variety</th>\n",
       "      <th>arrival_date</th>\n",
       "      <th>min_price</th>\n",
       "      <th>max_price</th>\n",
       "      <th>modal_price</th>\n",
       "    </tr>\n",
       "  </thead>\n",
       "  <tbody>\n",
       "    <tr>\n",
       "      <th>0</th>\n",
       "      <td>Chattisgarh</td>\n",
       "      <td>Durg</td>\n",
       "      <td>Durg</td>\n",
       "      <td>Banana - Green</td>\n",
       "      <td>Banana - Green</td>\n",
       "      <td>2021-01-01 00:00:00</td>\n",
       "      <td>800</td>\n",
       "      <td>1000</td>\n",
       "      <td>900</td>\n",
       "    </tr>\n",
       "    <tr>\n",
       "      <th>1</th>\n",
       "      <td>Chattisgarh</td>\n",
       "      <td>Durg</td>\n",
       "      <td>Durg</td>\n",
       "      <td>Banana - Green</td>\n",
       "      <td>Banana - Green</td>\n",
       "      <td>2021-01-04 00:00:00</td>\n",
       "      <td>900</td>\n",
       "      <td>1000</td>\n",
       "      <td>950</td>\n",
       "    </tr>\n",
       "    <tr>\n",
       "      <th>2</th>\n",
       "      <td>Chattisgarh</td>\n",
       "      <td>Durg</td>\n",
       "      <td>Durg</td>\n",
       "      <td>Banana - Green</td>\n",
       "      <td>Banana - Green</td>\n",
       "      <td>2021-01-06 00:00:00</td>\n",
       "      <td>700</td>\n",
       "      <td>1000</td>\n",
       "      <td>850</td>\n",
       "    </tr>\n",
       "    <tr>\n",
       "      <th>3</th>\n",
       "      <td>Chattisgarh</td>\n",
       "      <td>Durg</td>\n",
       "      <td>Durg</td>\n",
       "      <td>Banana - Green</td>\n",
       "      <td>Banana - Green</td>\n",
       "      <td>2021-01-07 00:00:00</td>\n",
       "      <td>2000</td>\n",
       "      <td>2200</td>\n",
       "      <td>2100</td>\n",
       "    </tr>\n",
       "    <tr>\n",
       "      <th>4</th>\n",
       "      <td>Chattisgarh</td>\n",
       "      <td>Durg</td>\n",
       "      <td>Durg</td>\n",
       "      <td>Banana - Green</td>\n",
       "      <td>Banana - Green</td>\n",
       "      <td>2021-01-08 00:00:00</td>\n",
       "      <td>1500</td>\n",
       "      <td>1600</td>\n",
       "      <td>1550</td>\n",
       "    </tr>\n",
       "    <tr>\n",
       "      <th>...</th>\n",
       "      <td>...</td>\n",
       "      <td>...</td>\n",
       "      <td>...</td>\n",
       "      <td>...</td>\n",
       "      <td>...</td>\n",
       "      <td>...</td>\n",
       "      <td>...</td>\n",
       "      <td>...</td>\n",
       "      <td>...</td>\n",
       "    </tr>\n",
       "    <tr>\n",
       "      <th>268</th>\n",
       "      <td>Chattisgarh</td>\n",
       "      <td>Durg</td>\n",
       "      <td>Durg</td>\n",
       "      <td>Banana - Green</td>\n",
       "      <td>Banana - Green</td>\n",
       "      <td>2021-12-25 00:00:00</td>\n",
       "      <td>1000</td>\n",
       "      <td>1200</td>\n",
       "      <td>1100</td>\n",
       "    </tr>\n",
       "    <tr>\n",
       "      <th>269</th>\n",
       "      <td>Chattisgarh</td>\n",
       "      <td>Durg</td>\n",
       "      <td>Durg</td>\n",
       "      <td>Banana - Green</td>\n",
       "      <td>Banana - Green</td>\n",
       "      <td>2021-12-26 00:00:00</td>\n",
       "      <td>1000</td>\n",
       "      <td>1200</td>\n",
       "      <td>1100</td>\n",
       "    </tr>\n",
       "    <tr>\n",
       "      <th>270</th>\n",
       "      <td>Chattisgarh</td>\n",
       "      <td>Durg</td>\n",
       "      <td>Durg</td>\n",
       "      <td>Banana - Green</td>\n",
       "      <td>Banana - Green</td>\n",
       "      <td>2021-12-28 00:00:00</td>\n",
       "      <td>1000</td>\n",
       "      <td>1200</td>\n",
       "      <td>1100</td>\n",
       "    </tr>\n",
       "    <tr>\n",
       "      <th>271</th>\n",
       "      <td>Chattisgarh</td>\n",
       "      <td>Durg</td>\n",
       "      <td>Durg</td>\n",
       "      <td>Banana - Green</td>\n",
       "      <td>Banana - Green</td>\n",
       "      <td>2021-12-29 00:00:00</td>\n",
       "      <td>800</td>\n",
       "      <td>1000</td>\n",
       "      <td>900</td>\n",
       "    </tr>\n",
       "    <tr>\n",
       "      <th>272</th>\n",
       "      <td>Chattisgarh</td>\n",
       "      <td>Durg</td>\n",
       "      <td>Durg</td>\n",
       "      <td>Banana - Green</td>\n",
       "      <td>Banana - Green</td>\n",
       "      <td>2021-12-30 00:00:00</td>\n",
       "      <td>1800</td>\n",
       "      <td>2200</td>\n",
       "      <td>2000</td>\n",
       "    </tr>\n",
       "  </tbody>\n",
       "</table>\n",
       "<p>273 rows × 9 columns</p>\n",
       "</div>"
      ],
      "text/plain": [
       "           state district market       commodity         variety  \\\n",
       "0    Chattisgarh     Durg   Durg  Banana - Green  Banana - Green   \n",
       "1    Chattisgarh     Durg   Durg  Banana - Green  Banana - Green   \n",
       "2    Chattisgarh     Durg   Durg  Banana - Green  Banana - Green   \n",
       "3    Chattisgarh     Durg   Durg  Banana - Green  Banana - Green   \n",
       "4    Chattisgarh     Durg   Durg  Banana - Green  Banana - Green   \n",
       "..           ...      ...    ...             ...             ...   \n",
       "268  Chattisgarh     Durg   Durg  Banana - Green  Banana - Green   \n",
       "269  Chattisgarh     Durg   Durg  Banana - Green  Banana - Green   \n",
       "270  Chattisgarh     Durg   Durg  Banana - Green  Banana - Green   \n",
       "271  Chattisgarh     Durg   Durg  Banana - Green  Banana - Green   \n",
       "272  Chattisgarh     Durg   Durg  Banana - Green  Banana - Green   \n",
       "\n",
       "            arrival_date  min_price  max_price  modal_price  \n",
       "0    2021-01-01 00:00:00        800       1000          900  \n",
       "1    2021-01-04 00:00:00        900       1000          950  \n",
       "2    2021-01-06 00:00:00        700       1000          850  \n",
       "3    2021-01-07 00:00:00       2000       2200         2100  \n",
       "4    2021-01-08 00:00:00       1500       1600         1550  \n",
       "..                   ...        ...        ...          ...  \n",
       "268  2021-12-25 00:00:00       1000       1200         1100  \n",
       "269  2021-12-26 00:00:00       1000       1200         1100  \n",
       "270  2021-12-28 00:00:00       1000       1200         1100  \n",
       "271  2021-12-29 00:00:00        800       1000          900  \n",
       "272  2021-12-30 00:00:00       1800       2200         2000  \n",
       "\n",
       "[273 rows x 9 columns]"
      ]
     },
     "execution_count": 230,
     "metadata": {},
     "output_type": "execute_result"
    }
   ],
   "source": [
    "test_data=pd.read_csv(r\"C:\\Users\\tejas\\Formoid Robotech\\2021_datacsv.csv\")\n",
    "test_data"
   ]
  },
  {
   "cell_type": "code",
   "execution_count": 231,
   "id": "8beffb4b",
   "metadata": {},
   "outputs": [
    {
     "data": {
      "text/plain": [
       "(273, 9)"
      ]
     },
     "execution_count": 231,
     "metadata": {},
     "output_type": "execute_result"
    }
   ],
   "source": [
    "test_data.shape"
   ]
  },
  {
   "cell_type": "code",
   "execution_count": 232,
   "id": "bf1f3bd0",
   "metadata": {},
   "outputs": [],
   "source": [
    "real_price=test_data.iloc[:,8:9].values"
   ]
  },
  {
   "cell_type": "code",
   "execution_count": 233,
   "id": "9bfea567",
   "metadata": {},
   "outputs": [
    {
     "data": {
      "text/plain": [
       "(273, 1)"
      ]
     },
     "execution_count": 233,
     "metadata": {},
     "output_type": "execute_result"
    }
   ],
   "source": [
    "real_price.shape"
   ]
  },
  {
   "cell_type": "code",
   "execution_count": 234,
   "id": "733a73af",
   "metadata": {},
   "outputs": [],
   "source": [
    "# Concatination"
   ]
  },
  {
   "cell_type": "code",
   "execution_count": 235,
   "id": "e756d1b0",
   "metadata": {},
   "outputs": [],
   "source": [
    "dataset_total = pd.concat([df['modal_price'], test_data['modal_price']], axis=0)"
   ]
  },
  {
   "cell_type": "code",
   "execution_count": 236,
   "id": "2f8be690",
   "metadata": {},
   "outputs": [
    {
     "name": "stderr",
     "output_type": "stream",
     "text": [
      "C:\\Users\\tejas\\AppData\\Local\\Temp\\ipykernel_15016\\1903196179.py:1: FutureWarning: The behavior of `series[i:j]` with an integer-dtype index is deprecated. In a future version, this will be treated as *label-based* indexing, consistent with e.g. `series[i]` lookups. To retain the old behavior, use `series.iloc[i:j]`. To get the future behavior, use `series.loc[i:j]`.\n",
      "  inputs=dataset_total[len(dataset_total)- len(test_data)-60:].values\n"
     ]
    }
   ],
   "source": [
    "inputs=dataset_total[len(dataset_total)- len(test_data)-60:].values"
   ]
  },
  {
   "cell_type": "code",
   "execution_count": 237,
   "id": "c6ccd261",
   "metadata": {},
   "outputs": [],
   "source": [
    "#reshape (convert into numpy array)"
   ]
  },
  {
   "cell_type": "code",
   "execution_count": 238,
   "id": "8abf89b1",
   "metadata": {},
   "outputs": [],
   "source": [
    "inputs=inputs.reshape(-1,1)"
   ]
  },
  {
   "cell_type": "code",
   "execution_count": 239,
   "id": "67d2050d",
   "metadata": {},
   "outputs": [],
   "source": [
    "import numpy as np\n",
    "from sklearn.preprocessing import MinMaxScaler\n",
    "\n",
    "# Assuming you have a 1-dimensional array called inputs with shape (n,)\n",
    "\n",
    "# Reshape the inputs to a 2-dimensional array with shape (n, 1)\n",
    "inputs= inputs.reshape(-1, 1)\n",
    "\n",
    "# Create the MinMaxScaler and transform the inputs\n",
    "sc = MinMaxScaler(feature_range=(0, 1))\n",
    "inputs = sc.fit_transform(inputs)\n"
   ]
  },
  {
   "cell_type": "code",
   "execution_count": 240,
   "id": "b9b87e98",
   "metadata": {},
   "outputs": [
    {
     "name": "stdout",
     "output_type": "stream",
     "text": [
      "9/9 [==============================] - 3s 116ms/step\n"
     ]
    }
   ],
   "source": [
    "x_test=[]\n",
    "for i in range (60,333):\n",
    "    x_test.append(inputs[i-60:i , 0])\n",
    "     \n",
    "x_test=np.array(x_test)\n",
    "x_test=np.reshape(x_test,(x_test.shape[0],x_test.shape[1],1))\n",
    "predicted_stock_price=model.predict(x_test)\n",
    "predicted_stock_price=sc.inverse_transform(predicted_stock_price)"
   ]
  },
  {
   "cell_type": "code",
   "execution_count": 241,
   "id": "035f3e80",
   "metadata": {},
   "outputs": [
    {
     "name": "stdout",
     "output_type": "stream",
     "text": [
      "[1145.7551]\n",
      "[900]\n"
     ]
    },
    {
     "data": {
      "text/plain": [
       "(None, None)"
      ]
     },
     "execution_count": 241,
     "metadata": {},
     "output_type": "execute_result"
    }
   ],
   "source": [
    "print(predicted_stock_price[0]),print(real_price[0])"
   ]
  },
  {
   "cell_type": "code",
   "execution_count": 242,
   "id": "0dc857fc",
   "metadata": {},
   "outputs": [],
   "source": [
    "# Visualization of results"
   ]
  },
  {
   "cell_type": "code",
   "execution_count": 243,
   "id": "b3518c4d",
   "metadata": {},
   "outputs": [
    {
     "data": {
      "image/png": "[encoded data removed]",
      "text/plain": [
       "<Figure size 640x480 with 1 Axes>"
      ]
     },
     "metadata": {},
     "output_type": "display_data"
    }
   ],
   "source": [
    "plt.plot(real_price,color='red',label='real market price of banana')\n",
    "plt.plot(predicted_stock_price,color='blue',label='predicted market price of banana')\n",
    "plt.title('Banana market price prediction')\n",
    "plt.xlabel('Time')\n",
    "plt.ylabel('Banana model price')\n",
    "plt.legend()\n",
    "plt.show()"
   ]
  },
  {
   "cell_type": "code",
   "execution_count": 245,
   "id": "47482ff8",
   "metadata": {},
   "outputs": [
    {
     "name": "stdout",
     "output_type": "stream",
     "text": [
      "1785/1785 [==============================] - 169s 95ms/step\n",
      "R-squared value: 0.8363015889986335\n"
     ]
    }
   ],
   "source": [
    "from sklearn.metrics import r2_score\n",
    "# Make predictions using the trained model\n",
    "y_pred = model.predict(x_train)\n",
    "\n",
    "# Calculate R-squared value\n",
    "r2 = r2_score(y_train, y_pred)\n",
    "\n",
    "print(\"R-squared value:\", r2)"
   ]
  },
  {
   "cell_type": "markdown",
   "id": "2bacde36",
   "metadata": {},
   "source": [
    "# Conclusions \n",
    "# 1)If we are taking other features with modal price feature then it is showing constant predicted values\n",
    "\n",
    "# 2) By considering only modal price feature we are getting 0.836 R-squared value"
   ]
  }
 ],
 "metadata": {
  "kernelspec": {
   "display_name": "Python 3 (ipykernel)",
   "language": "python",
   "name": "python3"
  },
  "language_info": {
   "codemirror_mode": {
    "name": "ipython",
    "version": 3
   },
   "file_extension": ".py",
   "mimetype": "text/x-python",
   "name": "python",
   "nbconvert_exporter": "python",
   "pygments_lexer": "ipython3",
   "version": "3.10.7"
  }
 },
 "nbformat": 4,
 "nbformat_minor": 5
}
